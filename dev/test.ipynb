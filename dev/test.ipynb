{
 "cells": [
  {
   "cell_type": "markdown",
   "id": "7ca202b8",
   "metadata": {},
   "source": [
    "## Test"
   ]
  },
  {
   "cell_type": "code",
   "execution_count": null,
   "id": "02a6b360",
   "metadata": {},
   "outputs": [],
   "source": [
    "### IMPORTS ###\n",
    "from pathlib import Path\n",
    "import pytesseract\n",
    "from pdf2image import convert_from_path\n",
    "from pdfminer.high_level import extract_text\n",
    "import easyocr\n",
    "from pdf2image import convert_from_path\n",
    "import numpy as np\n",
    "\n",
    "\n",
    "### GLOBAL VARIABLES ###\n",
    "# Paths for input and output directories\n",
    "PATH_INPUT = Path(\".\").parent.resolve()/'pdf_files'\n",
    "PATH_OUTPUT = Path(\".\").parent.resolve()/'extracted_files'\n",
    "PDF_FILES = list(PATH_INPUT.glob(\"*.pdf\"))\n",
    "                 \n",
    "# OCR and text extraction settings)\n",
    "OCR_DPI = 300\n",
    "WEAK_CHAR_THRESHOLD = 500\n",
    "WEAK_LINE_THRESHOLD = 10\n",
    "\n"
   ]
  },
  {
   "cell_type": "code",
   "execution_count": null,
   "id": "41d79d69",
   "metadata": {},
   "outputs": [],
   "source": [
    "\n",
    "# --- Utility Functions ---\n",
    "\n",
    "def extract_pdfminer(file_path):\n",
    "    return extract_text(file_path)\n",
    "\n",
    "def extract_ocr(file_path):\n",
    "    images = convert_from_path(file_path, dpi=OCR_DPI)\n",
    "    return \"\\n\".join([pytesseract.image_to_string(img, config =\"--psm 1\") for img in images])\n",
    "\n",
    "def is_extraction_weak(text):\n",
    "    return len(text) < WEAK_CHAR_THRESHOLD or text.count(\"\\n\") < WEAK_LINE_THRESHOLD\n"
   ]
  },
  {
   "cell_type": "code",
   "execution_count": null,
   "id": "36401b19",
   "metadata": {},
   "outputs": [],
   "source": [
    "try_extract_mine = extract_text(PATH_INPUT / PDF_FILES[0])\n",
    "with open(PATH_OUTPUT / f\"{PDF_FILES[0].split(\".\")[0]}.txt\", \"w\") as f:\n",
    "    f.write(try_extract_mine)"
   ]
  },
  {
   "cell_type": "code",
   "execution_count": 65,
   "id": "698b84c5",
   "metadata": {},
   "outputs": [
    {
     "data": {
      "text/plain": [
       "'2d Civ. B303096\\nCourt of Appeal, Second District, Division 6, California.\\nHuy Fong Foods, Inc. v. Underwood Ranches, LP\\n66 Cal.App.5th 1112 (Cal. Ct. App. 2021)\\n•\\n281 Cal. Rptr. 3d 757\\nDecided Jul 27, 2021\\n2d Civ. No. B303096\\n07-27-2021\\nHUY FONG FOODS, INC., Plaintiff, Cross-\\ndefendant, and Appellant, v. UNDERWOOD\\nRANCHES, LP, Defendant, Cross-complainant\\nand Appellant; Underwood & Son, LLC, Cross-\\nComplainant and Respondent; David Tran, Cross-\\ndefendant and Respondent.\\nGILBERT, P. J.\\nLatham & Watkins, Joshua G. Hamilton, New\\nYork, NY, Dixie C. Tauber, Los Angeles, CA,\\nRoman \\nMartinez, \\nCharles \\nS. \\nDameron,\\nWashington, DC, Riley T. Keenan, Washington,\\nDC; Pearson, Simon & Warshaw, Sherman Oaks,\\nCA, Thomas J. Nolan for Plaintiff, Cross-\\ndefendant and Appellant Huy Fong Foods, Inc.,\\nand Cross-defendant and Respondent David Tran.\\nFerguson Case Orr Paterson, Wendy C. Lascher,\\nJohn A. Hribar, Ventura, CA, James Q.\\nMcDermott, Ventura, CA, Michael A. Velthoen,\\nVentura, CA and Jessica M. Wan for Defendant,\\nCross-Complainant and Appellant Underwood\\nRanches and Cross-complainant and Respondent\\nUnderwood & Son.\\nLatham & Watkins, Joshua G. Hamilton, New\\nYork, NY, Dixie C. Tauber, Los Angeles, CA,\\nRoman \\nMartinez, \\nCharles \\nS. \\nDameron,\\nWashington, DC, Riley T. Keenan, Washington,\\nDC; Pearson, Simon & Warshaw, Sherman Oaks,\\nCA, Thomas J. Nolan for Plaintiff, Cross-\\ndefendant and Appellant Huy Fong Foods, Inc.,\\nand Cross-defendant and Respondent David Tran.\\nFerguson Case Orr Paterson, Wendy C. Lascher,\\nJohn A. Hribar, Ventura, CA, James Q.\\nMcDermott, Ventura, CA, Michael A. Velthoen,\\nVentura, CA and Jessica M. Wan for Defendant,\\nCross-Complainant and Appellant Underwood\\nRanches and Cross-complainant and Respondent\\nUnderwood & Son.\\nGILBERT, P. J.*1116 It has been said that some\\ncontracts are not worth the paper they are written\\non. But oral contracts stemming from previous\\nwritten contracts and long-standing business\\npractices based on custom and trust are as valid as\\ncontracts that are worth the paper they are written\\non. When such a contract is breached, there are\\nconsequences.\\n1116\\nA pepper farmer sued the manufacturer of a\\npepper-based hot sauce for breach of contract and\\nfraud. A unanimous jury found for the farmer,\\nawarding $13.3 million in compensatory damages\\nand $10 million in punitive damages. We affirm\\nthe judgment.\\nFACTS\\nDavid Tran founded Huy Fong Foods, Inc. (Huy\\nFong), a business that produces *762 Sriracha, a\\njalapeño pepper-based hot sauce. In 1988, Huy\\nFong contracted with Underwood Ranches, L.P.\\n(Underwood) to purchase 500 tons of jalapeños\\nfrom Underwood. Craig Underwood (Craig) is\\nUnderwood\\'s principal. This was the beginning of\\na relationship that would last for 28 years.\\n762\\n1\\n\\nFor the first 10 years, the parties executed written\\nagreements specifying the price per pound and\\nvolume to be supplied. Thereafter, the parties dealt\\nwith each other informally with oral agreements.\\nOriginally, Huy Fong needed more peppers than\\nUnderwood could supply, so it contracted with\\nother farmers as needed.\\nUnderwood\\'s pepper sales to Huy Fong grew\\nalong with the success of Huy Fong\\'s business.\\nCraig testified that, by 2005, Tran was \"pushing\"\\nUnderwood to add more acreage.*1117 In 2006,\\nTran asked Underwood to significantly increase its\\npepper acreage. Underwood was growing 95\\npercent of Huy Fong\\'s peppers. But the peppers\\nrepresented only 25 percent of Underwood\\'s\\nbusiness. Underwood also farmed diverse crops\\nsuch as lemons and vegetables. Craig told Tran\\nthat he was reluctant to assume the risk of growing\\nmore peppers, and rejected Huy Fong\\'s offer.\\nCraig suggested that Huy Fong supplement\\nUnderwood\\'s crop with peppers from other\\nsources.\\n1117\\nInstead of seeking other sources, Huy Fong\\nproposed that it would assume some of the risk.\\nHuy Fong would pay Underwood by the acre\\ngrown instead of pounds produced. Thus, the risk\\nof a disappointing yield would be on Huy Fong.\\nUnderwood agreed to the arrangement.\\nIn 2007, Huy Fong advised Underwood to\\nincrease its acreage by 50 percent. To do this,\\nUnderwood had to expand its operations from\\nVentura County to Kern County. Craig testified\\nthat the expansion into Kern County was the\\nbiggest thing he had ever done, but he needed to\\ndo it to meet Huy Fong\\'s increasing needs.\\nAt the same time, Huy Fong was building a\\n600,000-square-foot factory in Irwindale. Tran\\ntook Craig on a tour of the site. Tran told Craig\\nthat Underwood \"needed to fill it up.\" Tran told\\nCraig that he should be farming at least 2,000\\nacres.\\nDue to Tran\\'s suggestion and encouragement,\\nUnderwood invested millions of dollars in\\nacquiring additional acres in Kern County and, to\\na lesser extent, Ventura County. By the end of the\\n2016 growing season, Underwood had acquired\\nover 1,800 acres in Kern County. It took a year or\\nmore to prepare the ground for growing peppers.\\nMany of the leases extended into the 2020\\'s,\\n2030\\'s, and beyond. By 2016, Huy Fong\\naccounted for approximately 80 percent of\\nUnderwood\\'s revenue.\\nUnderwood made these investments because Tran\\nand Donna Lam, Huy Fong\\'s chief operations\\nofficer \\nand \\nTran\\'s \\nsister-in-law, \\nassured\\nUnderwood that Huy Fong would continue to\\npurchase the peppers grown by Underwood into\\nthe future. Craig testified Tran and Lam made sure\\nhe knew Huy Fong was going to take all the\\nproduct \\nUnderwood \\nwould \\nproduce. \\nThey\\nrepeatedly told Craig, \"You grow it, I\\'ll sell it.\"\\nHuy Fong Video Records 2016\\nHarvest\\nCraig, along with Underwood\\'s chief operations\\nofficer, Jim Roberts, developed a mechanical\\nharvester for the peppers. The 2016 harvest was\\nthe *1118 first time the entire harvest was\\nperformed by the harvester. Mechanical harvesting\\nsaved substantial money.*763 In October 2016,\\nTran requested Underwood\\'s permission to take\\nvideo \\nfootage \\nfrom \\nan \\naerial \\ndrone \\nof\\nUnderwood\\'s harvesting and sorting operations.\\nRoberts granted permission for Huy Fong\\'s\\npersonal use only. Huy Fong had never before\\nrequested to record the harvest.\\n1118\\n763\\nChilico, LLC\\nIn 2014 or 2015, Tran formed a new company that\\nhe later called Chilico, LLC. Chilico\\'s purpose\\nwas to obtain peppers for Huy Fong. In May 2015,\\nTran offered Roberts a job. Roberts declined the\\njob offer and attributed the offer to a mistake.\\n2\\nHuy Fong Foods, Inc. v. Underwood Ranches, LP     66 Cal.App.5th 1112 (Cal. Ct. App. 2021)\\n\\nTran officially formed Chilico in 2016. He gave\\n100 percent ownership to his sister-in-law Lam.\\nTran testified that he wanted to give Lam a\\nsignificant salary increase, but his son and wife,\\nwho were on Huy Fong\\'s board, would object.\\nHuy Fong contracted with Chilico to buy all its\\nchilies peppers from Chilico. The contract\\ndiverted millions of dollars from Huy Fong to\\nChilico.\\n2017 Contract\\nOn November 1, 2016, Craig, Roberts, Tran, and\\nLam met at the Huy Fong factory to plan for the\\n2017 pepper season. The parties discussed\\nongoing field preparations for the upcoming\\nseason. Underwood was already preparing the\\nground. Because it is a continuous process,\\nUnderwood could not wait.\\nUnderwood and Huy Fong agreed that for the\\n2017 season Underwood would plant 1,700 acres\\nfor $13,000 per acre. Tran also agreed to advance\\npayments of $18 million.\\nBreach of Contract\\nOn November 9, 2016, Lam asked Roberts to\\ncome to the Huy Fong factory to pick up some\\nequipment. Lam and Tran knew Craig was on\\nvacation and would not accompany Roberts.\\nWhen Roberts arrived, Tran told him that he was\\nforming a new company. Lam was going to\\noperate the company. Tran told Roberts that\\nRoberts would be working for the new company.\\n*1119 When Roberts declined the job offer, Tran\\nwas not happy. Tran told Roberts that Underwood\\nwould have to deliver peppers for $500 per ton to\\ncompete with Chinese pepper mash that sold for\\n$300 per ton. When Roberts told Tran that Craig\\nmakes the decisions for Underwood, Tran replied\\nthat he would make Craig take $500 per ton.\\n1119\\nUnderwood was suddenly facing imminent\\ncatastrophic financial consequences. It could not\\ngrow peppers for $500 a ton. Its costs averaged\\n$610 a ton.\\nFurther negotiations with Huy Fong proved\\nunfruitful. Lam insisted that Huy Fong needed to\\npurchase peppers for under $500 per ton. Tran\\nrefused to provide Underwood with prepayments\\nneeded to finance the crop. Tran also insisted that\\nUnderwood contract with Chilico rather than Huy\\nFong. Chilico did not have the assets to ensure\\nthat Underwood would be paid and Huy Fong\\nrefused to guarantee the Chilico contract.\\nTran made a final attempt to hire Roberts away\\nfrom Underwood.\\nIn early January 2017, Craig sent an e-mail to\\nTran stating that in October 2016 they had an\\nagreement to move ahead with production for\\n2017; subsequently, Huy Fong decided to change\\nthe agreement; and it is impossible for Underwood\\nto comply with the modified terms. The e-mail\\nadvised Huy Fong that the start date for *764\\nplanting had passed, there were no plants in the\\nnursery, and Underwood did not plan on\\ndelivering any peppers to Huy Fong.\\n764\\nHuy Fong contracted with other farmers to\\nprovide peppers. Tran showed those farmers the\\ndrone video of Underwood\\'s 2016 harvest that he\\nhad promised to keep confidential to show them\\nhow to harvest economically.\\nConsequences of Huy Fong\\'s Breach\\nAfter the relationship with Huy Fong ended,\\nUnderwood had nothing to plant on the 1,700\\nacres it had. Nor did Underwood have the\\nfinancing to plant acreage on speculation. It tried\\nto get out of its leases, but was largely\\nunsuccessful. It had to immediately lay off 40\\nemployees. It was too late in the season to grow\\nmuch of anything.\\nUnderwood managed to obtain subcontracts for\\nspring and summer, but it lost 8.5 million in 2017.\\nUnderwood was having difficulties in 2018, and\\nlost over $6 million that year.\\n3\\nHuy Fong Foods, Inc. v. Underwood Ranches, LP     66 Cal.App.5th 1112 (Cal. Ct. App. 2021)\\n\\nRoberts explained that with two or three years’\\nnotice, Underwood could have avoided the losses.\\nHe testified: \"[W]e would have compressed the \\n*1120 acreage on the peppers. We wouldn\\'t have\\nworried about the [crop] rotation. I could have\\nshed property at the same time as growing peppers\\nand generated revenue from those. It would have\\ngiven me–that entire first year when we had\\nabsolutely nothing to grow, that would have been\\ncovered. So, that massive loss in the first year\\nwould have been eliminated. And in the second\\nyear, we would be taking on new customers. Then\\nif we could work it out, reduce our pepper acres,\\nadd the new acres of other crops, it might have\\nbeen seamless. Might not have had any loss.\"\\n1120\\nRoberts testified that growing peppers for Huy\\nFong required planning three years ahead of time.\\nProcedure\\nHuy Fong brought an action against Underwood\\nseeking a $1.4 million refund of payments Huy\\nFong had made for the 2016 season.\\nUnderwood cross-complained alleging breach of\\ncontract, promissory estoppel, and fraud against\\nHuy Fong, and intentional interference with\\nprospective economic relations and intentional\\ninterference with contractual relations again Tran.\\nThe trial court granted Tran judgment of nonsuit\\non the tortious interference claims.\\nVerdict\\nThe jury unanimously found in Underwood\\'s favor\\non breach of contract and fraud. The jury awarded\\nUnderwood $13.32 million in compensatory\\ndamages and $10 million in punitive damages.\\nThe trial court denied Huy Fong\\'s motion for\\njudgment notwithstanding the verdict.1\\n1 Huy Fong\\'s motion to supplement the\\nrecord on appeal, filed April 22, 2020, is\\ndenied. \\nDISCUSSION\\nHuy Fong\\'s Appeal\\nI\\nFraud\\nHuy Fong contends it is entitled to judgment on\\nUnderwood\\'s fraud claim.*1121 Huy Fong argues\\nthat \\nUnderwood \\nprevailed \\non \\na \\nlegally\\nimpermissible \\ntheory \\nof \\n*765 \\nfraudulent\\nconcealment. \\nHuy \\nFong \\nmischaracterizes\\nUnderwood\\'s \\ntheory. \\nHuy \\nFong \\nclaims\\nUnderwood\\'s theory is that \"every party to a\\ncontract–solely by virtue of the contract\\'s\\nexistence–has a freestanding state-law duty to\\ndisclose to its counterparty any intention to\\ndiscontinue the contractual relationship.\"\\n1121\\n765\\nHaving mischaracterized Underwood\\'s theory,\\nHuy Fong cites Norkin v. United States Fire Ins.\\nCo. (1965) 237 Cal.App.2d 435, 47 Cal.Rptr. 15,\\nto show why the theory it falsely attributes to\\nUnderwood is wrong.\\nIn Norkin , plaintiff made a claim against his\\nhomeowner\\'s insurer. Thereafter, the insurer\\nrefused to renew the policy. Plaintiff brought an\\naction for fraud against the insurer alleging the\\ninsurer failed to disclose it would not do further\\nbusiness with plaintiff if he made a claim. The\\ntrial court sustained the insurer\\'s demurrer without\\nleave to amend. The Court of Appel affirmed,\\nstating the insurer was under no duty to disclose\\nits intention not to renew. ( Norkin v. United States\\nFire Ins. Co. , supra , 237 Cal.App.2d at p. 438,\\n47 Cal.Rptr. 15.)\\nUnderwood\\'s theory is not that every contract\\nrequires a party to disclose an intention not to\\nrenew. Instead, Underwood\\'s theory is that Huy\\nFong induced Underwood to acquire more and\\nmore land by continually promising Underwood\\nthat Huy Fong would purchase all the peppers\\nUnderwood produced. Huy Fong understood that\\nit was inducing Underwood to commit itself into\\nthe future, while at the same time concealing its\\nplan to terminate its relationship with Underwood.\\n4\\nHuy Fong Foods, Inc. v. Underwood Ranches, LP     66 Cal.App.5th 1112 (Cal. Ct. App. 2021)\\n\\nHad the insurer in Norkin induced plaintiff to\\npurchase his house on the fraudulent promise that\\nit would continue to insure it, we are confident the\\nresult would have been different.\\nMore to the point, the question on appeal is not\\nwhether the judgment can be upheld on a\\nparticular legal theory, but whether the judgment\\ncan be upheld on any legal theory. (See, e.g.,\\nInternational etc. Workers v. Landowitz (1942) 20\\nCal.2d 418, 423, 126 P.2d 609 [judgment entered\\non grounds that ordinance is unconstitutional\\nupheld on other grounds].)\\n(a) Fraudulent Concealment\\nHuy Fong contends it had no duty to disclose that\\nit did not intend to continue its contractual\\nrelationship with Underwood\\nFraudulent concealment requires the \"suppression\\nof a fact, by one who is bound to disclose it.\" (\\nCiv. Code, § 1710, subd. 3.) Plaintiff must *1122\\nshow that defendant had a duty to disclose. (\\nLinear Technology Corp. v. Applied Materials,\\nInc. (2007) 152 Cal.App.4th 115, 131, 61\\nCal.Rptr.3d 221.)\\n1122\\nA duty to disclose may arise from a confidential\\nrelationship. Where there exists a relationship of\\ntrust and confidence, it is the duty of one in whom\\nthe confidence is reposed to make a full disclosure\\nof all material facts within his knowledge relating\\nto the transaction in question and any concealment\\nof a material fact is a fraud. ( Estate of Sanders\\n(1985) 40 Cal.3d 607, 616, 221 Cal.Rptr. 432, 710\\nP.2d 232.) A confidential relationship can exist\\neven though, strictly speaking, there is no\\nfiduciary relationship. ( Id. at p. 615, 221 Cal.Rptr.\\n432, 710 P.2d 232.) A confidential relationship\\nmay be founded on moral, social, domestic, or\\nmerely a personal relationship. ( *766 Barbara A.\\nv. John G . (1983) 145 Cal.App.3d 369, 382, 193\\nCal.Rptr. 422.)\\n766\\nIn Bank of America v. Sanchez (1934) 3\\nCal.App.2d 238, 243, 38 P.2d 787, the court\\nstated, \"[I]t is sufficient to show the existence of\\nsuch friendly relations during a period of several\\nyears between the parties as would entitle the\\ninjured person to place confidence in the integrity\\nand honesty of the other party to a contract ....\"\\nThe court determined that a customer\\'s business\\nrelationship with a bank over a period of years, her\\nhusband\\'s former employment with the bank, and\\nher acquaintance with and confidence in officers\\nof the bank were substantial evidence of a\\nconfidential relationship. ( Ibid. )\\nHere the parties’ relationship extended over 28\\nyears. Tran testified his relationship with Craig\\nwas like a family, that he trusted Craig, and saw\\nhim as a good friend. Lam described the\\nrelationship between Underwood and Huy Fong as\\na \"concrete bond.\" The parties shared financial\\ninformation. Craig obtained more land in reliance\\non Huy Fong\\'s assurance that it would buy what\\nUnderwood \\nproduced. \\nPerhaps \\nthe \\nmost\\ncompelling evidence of a confidential relationship\\nis that for many years the parties entered into\\ntransactions involving tens of millions of dollars\\nwithout formal written contracts.\\nHuy Fong points out that the jury was instructed\\non fraudulent concealment, but the instruction did\\nnot include confidential relationship.\\nIf this was error, it is patently harmless. The\\nevidence that Underwood and Huy Fong were in a\\nconfidential relationship is overwhelming. Even\\nHuy Fong concedes in its opening brief that the\\nparties had enjoyed a \"close and friendly\"\\nrelationship, \\nthat \\nthe \\nparties \\n\"successfully\\ncollaborated for decades,\" that the relationship\\ngrew less formal as the parties \"drew closer,\" and\\nthat they \"shared the financial burdens and risks of\\njalapeño cultivation.\" Huy Fong does not even\\nsuggest any contrary evidence.*1123 Huy Fong\\nargues the concealed information must be fact not\\nintention. But again the authority Huy Fong cites\\ndoes not support the argument. The cases Huy\\nFong cites do involve a concealment of fact but\\nnone of them hold a concealment of intention is\\nnot sufficient. (See, e.g., Hoffman v. 162 North\\n1123\\n5\\nHuy Fong Foods, Inc. v. Underwood Ranches, LP     66 Cal.App.5th 1112 (Cal. Ct. App. 2021)\\n\\nWolfe LLC (2014) 228 Cal.App.4th 1178, 175\\nCal.Rptr.3d 820 [cited by Huy Fong; does not\\ninvolve concealment of intention].)\\nHere Huy Fong\\'s decision to terminate its\\nrelationship with Underwood was not some\\ninchoate idea. Huy Fong\\'s business required a\\ndependable supply of peppers. Huy Fong made the\\ndecision to terminate its relationship with\\nUnderwood long before the end of the 2016\\nharvest. That decision was a \"fact\" that Huy Fong\\nhad a duty to disclose to Underwood. And the jury\\nhad ample evidence to so find.\\n(b) Affirmative Misrepresentation\\nHuy Fong contends there is no evidence of an\\naffirmative misrepresentation.\\nIn viewing the evidence, we look only to the\\nevidence supporting the prevailing party. ( GHK\\nAssociates v Mayer Group, Inc . (1990) 224\\nCal.App.3d 856, 872, 274 Cal.Rptr. 168.) We\\ndiscard evidence unfavorable to the prevailing\\nparty as not having sufficient verity to be accepted\\nby the trier of fact. ( Ibid. ) Where the trial court or\\njury has drawn reasonable inferences from the\\nevidence, we have no *767 power to draw different\\ninferences, even though different inferences may\\nalso be reasonable. ( McIntyre v. Doe & Roe\\n(1954) 125 Cal.App.2d 285, 287, 270 P.2d 21.)\\nThe trier of fact is not required to believe even\\nuncontradicted testimony. ( Sprague v. Equifax,\\nInc. (1985) 166 Cal.App.3d 1012, 1028, 213\\nCal.Rptr. 69.)\\n767\\nOne who willfully deceives another with intent to\\ninduce him to alter his position to his injury or risk\\nis liable for any damage that he thereby suffers. (\\nCiv. Code, § 1709.) A promise to do something\\nnecessarily implies an intention to perform; hence,\\nwhen a promise is made without such an intention,\\nit is fraud. ( Lazar v. Superior Court (1996) 12\\nCal.4th 631, 638, 49 Cal.Rptr.2d 377, 909 P.2d\\n981.)\\nHuy Fong points out that the only fraud\\nUnderwood alleges in its complaint is a July 2016\\nrepresentation that Huy Fong would purchase\\npeppers from Underwood for the 2017, 2018,\\n2019 pepper seasons and beyond. Huy Fong\\nargues that at best there was an implied promise\\nbased on vague reassurances of good feelings\\nbetween the parties. Huy Fong cites *1124 Lonely\\nMaiden Productions, LLC v. Golden Tree Asset\\nManagement, LP (2011) 201 Cal.App.4th 368,\\n375, 135 Cal.Rptr.3d 69, for the proposition that\\nCalifornia does not recognize a fraud claim based\\non an implied false promise.\\n1124\\nBut Lonely Maiden cites no authority for the\\nproposition that fraud cannot be based on an\\nimplied false promise. Where the implied promise\\nis certain enough to cause reasonable reliance,\\nthere is no reason it cannot be a proper basis for\\nfraud. Parties may not avoid liability for fraud\\nsimply because they leave to implication what\\nthey clearly intend to communicate.\\nIn any event, here there was far more than an\\nimplied promise based on vague reassurances of\\ngood feelings between the parties. Huy Fong\\nexpressly told Underwood numerous times that\\nHuy Fong would purchase all the peppers\\nUnderwood could produce. These promises were\\nmade in the context of Huy Fong\\'s insistence that\\nUnderwood obtain more land, a matter that\\nrequired Underwood to undertake long-term\\nfinancial commitments. In addition, Huy Fong\\nexpressly agreed to purchase the 2017 harvest of\\n1,700 acres at $13,000 per acre.\\nThe jury could reasonably conclude that Huy Fong\\nhad no intention of keeping those promises when\\nthey were made. There is evidence to show that\\nTran had long planned to cut Huy Fong\\'s ties to\\nUnderwood. As far back as 2014, Tran was\\nplanning to form Chilico, a company that would\\npurchase peppers from farmers other than\\nUnderwood, allowing Huy Fong to cut its ties to\\nUnderwood. In 2015, Tran began his campaign to\\nhire Roberts away from Underwood. Roberts was\\n6\\nHuy Fong Foods, Inc. v. Underwood Ranches, LP     66 Cal.App.5th 1112 (Cal. Ct. App. 2021)\\n\\nthe key employee in Underwood\\'s pepper\\nproduction. Tran informed Roberts that Huy Fong\\nwas \\nbreaching \\nthe \\ncontract \\nto \\npurchase\\nUnderwood\\'s 2017 harvest just days after making\\nit. Tran waited until he knew Craig was on\\nvacation before informing Roberts. Finally, in\\n2016, Tran, who had never before showed an\\ninterest in harvest operations, used a drone to\\nvideo Underwood\\'s harvest. After he cut ties with\\nUnderwood, he used the video to show other\\nfarmers how to harvest efficiently.\\nThere is more than ample evidence to support a\\nfinding \\nof \\nfraud \\nbased \\non \\naffirmative\\nmisrepresentation.\\nII\\nAlleged Inconsistent Jury Findings\\nHuy Fong contends the jury made inconsistent\\nfindings on the parties’ contract.*768 On the jury\\'s\\nspecial verdict form, the jury answered yes to both\\nthe \\nfollowing \\nquestions: \\n\"Did \\nUnderwood\\nRanches LP and Huy Fong Foods, Inc. *1125 enter\\ninto an ongoing contract (something more than\\nannual contracts) whereby Underwood Ranches\\nwould grow jalapeño peppers for Huy Fong?\"\\n\"Did Underwood Ranches LP and Huy Fong\\nFoods, Inc. enter into a contract for the 2017\\njalapeño pepper growing season?\"\\n768\\n1125\\nA special verdict is inconsistent if there is no\\npossibility of reconciling its findings with each\\nother. ( Singh v. Southland Stone U.S.A., Inc.\\n(2010) 186 Cal.App.4th 338, 357, 112 Cal.Rptr.3d\\n455.)\\nHere the jury\\'s findings are consistent and easily\\nreconciled. Read together, the jury found that the\\nparties had an ongoing contractual relationship\\nthat included the 2017 jalapeño growing season.\\nIII\\nMotion for New Trial\\nHuy Fong contends the trial court abdicated its\\nresponsibility to sit as a 13th juror in ruling on its\\nmotion for a new trial.\\nHuy Fong made a motion for a new trial on the\\nground of insufficiency of the evidence to justify\\nthe verdict. ( Code Civ. Proc., § 657, subd. 6.)\\nCode of Civil Procedure section 657 provides, in\\npart: \"A new trial shall not be granted upon the\\nground of insufficiency of the evidence to justify\\nthe verdict or other decision ... unless after\\nweighing the evidence the court is convinced from\\nthe entire record, including reasonable inferences\\ntherefrom, that the court or jury clearly should\\nhave reached a different verdict or decision.\"\\n(Italics added.)\\nHuy Fong\\'s contention that the trial court\\nabdicated its duty is based on the court\\'s\\nstatement: \"I may be the 13th juror, but I don\\'t\\nview myself as the super juror where, because I\\ndisagree with what the jury has returned in the\\nway of a verdict, I can just, you know, run over the\\ntop of it and substitute my personal opinion for\\ntheirs.\"\\nHuy Fong apparently believes the trial court does\\nhave the power to substitute the court\\'s personal\\nopinion for that of the jury. Huy Fong relies on\\nRyan v. Crown Castle NG Networks, Inc. (2016) 6\\nCal.App.5th 775, 211 Cal.Rptr.3d 743. In Ryan ,\\nthe Court of Appeal reversed the trial court\\'s\\ndenial of the plaintiff\\'s motion for a new trial on\\nthe ground of inadequate damages because the\\ntrial court implied it had no power to question the\\nadequacy of the jury\\'s award and because the trial\\ncourt did not evaluate the evidence. ( Id. at pp.\\n783-786, 211 Cal.Rptr.3d 743.)*1126 But here the\\ntrial court evaluated the evidence and did not say\\nit had no power to question the jury\\'s verdict. The\\ncourt said it had no power to act as a super juror\\nand substitute its personal opinion for that of the\\njurors. That is a correct statement of the law and\\nreflects how all judges are duty bound to act. To\\ndo otherwise would impoverish our system of\\njustice.\\n1126\\n7\\nHuy Fong Foods, Inc. v. Underwood Ranches, LP     66 Cal.App.5th 1112 (Cal. Ct. App. 2021)\\n\\nUnderwood has a constitutional right to a jury\\ntrial. ( Cal. Const., art I, § 16.) Code of Civil\\nProcedure section 657 empowers the trial court to\\ngrant a new trial only when after independently\\nevaluating the evidence the court concludes the\\njury\\'s verdict is \"clearly\" wrong. The court cannot\\ngrant a new trial simply because it would have\\nfound differently than the jury. ( Dominguez v.\\nPantalone (1989) 212 Cal.App.3d 201, 216, 260\\nCal.Rptr. 431.) That is what the trial court said.\\n*769 The purpose of Code of Civil Procedure\\nsection 657 is not to give the trial court permission\\nto run roughshod over a party\\'s constitutional right\\nto jury determination. Instead, the purpose is to\\nallow the trial court to grant a new trial on those\\nrare occasions when the jury\\'s verdict is so at odds\\nwith any reasonable view of the evidence that\\njudicial intervention is required to avoid a\\nmanifest miscarriage of justice. To the extent Ryan\\ncan be read to the contrary, we decline to follow it.\\n769\\nIV\\nPunitive Damages\\nHuy Foods contends that the $10 million punitive\\ndamage award must be vacated.\\nHuy Fong argues that punitive damages cannot be\\nawarded for breach of contract in the absence of\\nan independent tort. But here punitive damages\\nwere awarded for fraud, not breach of contract.\\nPunitive damages may be awarded for fraud even\\nthough the fraud incidentally involves breach of\\ncontract. (See Schroeder v. Auto Driveaway Co.\\n(1974) 11 Cal.3d 908, 921, 114 Cal.Rptr. 622, 523\\nP.2d 662 [defendants who contracted to transport\\nplaintiffs’ goods are liable for punitive damages\\nfor fraudulently concealing they were not\\nauthorized \\nby \\nthe \\nInterstate \\nCommerce\\nCommission to transport goods].)\\nHuy Fong\\'s reliance on Applied Equipment Corp.\\nv. Litton Saudi Arabia, Ltd. (1994) 7 Cal.4th 503,\\n516, 28 Cal.Rptr.2d 475, 869 P.2d 454, is\\nmisplaced. In that case our Supreme Court held\\nthat a party cannot be liable for conspiracy to\\ninterfere with its own contract. This case involves\\nfraud, not *1127 interference with contract. If a\\nparty could interfere with its own contract, every\\nbreach of contract would be a tort. But not every\\nbreach of contract involves fraud.\\n1127\\nHuy Fong argues that punitive damages were not\\nproven by clear and convincing evidence. ( Civ.\\nCode, § 3294, subd. (a) [to recover punitive\\ndamages, fraud must be proven by clear and\\nconvincing evidence].) But the jury unanimously\\nfound fraud by clear and convincing evidence. We\\nstated the evidence that supports a finding of fraud\\nby affirmative misrepresentation and fraudulent\\nconcealment. We viewed the record as a whole\\nand determine that the record contains substantial\\nevidence from which a reasonable trier of fact\\ncould have made the finding of the high\\nprobability demanded by the clear and convincing\\nevidence standard. ( Conservatorship of O.B.\\n(2020) 9 Cal.5th 989, 1005, 266 Cal.Rptr.3d 329,\\n470 P.3d 41.)\\nFinally, Huy Fong argues the $10 million punitive\\ndamages award was so excessive as to violate\\nfederal due process. The United States Supreme\\nCourt has set forth three guideposts for reviewing\\na punitive damages award: \"(1) the degree of\\nreprehensibility of the defendant\\'s misconduct; (2)\\nthe disparity between the actual or potential harm\\nsuffered by the plaintiff and the punitive damages\\naward; and (3) the difference between the punitive\\ndamages awarded by the jury and the civil\\npenalties authorized or imposed in comparable\\ncases.\" ( State Farm Mutual Automobile Insurance\\nCo. v. Campbell (2003) 538 U.S. 408, 418, 123\\nS.Ct. 1513, 155 L.Ed.2d 585.)\\nConcerning the first guidepost, the Supreme Court\\nstated: \" ‘[T]he most important indicium of the\\nreasonableness of a punitive damages award is the\\ndegree of *770 reprehensibility of the defendant\\'s\\nconduct.’ [Citation.] We have instructed courts to\\ndetermine the reprehensibility of a defendant by\\nconsidering whether: the harm caused was\\nphysical as opposed to economic; the tortious\\n770\\n8\\nHuy Fong Foods, Inc. v. Underwood Ranches, LP     66 Cal.App.5th 1112 (Cal. Ct. App. 2021)\\n\\nconduct evinced an indifference to or a reckless\\ndisregard of the health or safety of others; the\\ntarget of the conduct had financial vulnerability;\\nthe conduct involved repeated actions or was an\\nisolated incident; and the harm was the result of\\nintentional malice, trickery, or deceit, or mere\\naccident.\" ( State Farm Mutual Automobile\\nInsurance Co. v. Campbell , supra , 538 U.S. at p.\\n419, 123 S.Ct. 1513.)\\nConcerning the first guidepost, the degree of\\nreprehensibility, it is true that Huy Fong\\'s\\nfraudulent conduct did not directly physically\\nharm anyone. But in addition to the mental\\ndistress Craig felt, 40 people lost their jobs. The\\nharm done by Huy Fong\\'s deception was not\\nlimited to Craig. The emotional distress and loss\\nof jobs were entirely foreseeable. Huy Fong\\nsimply did not care. In addition, Underwood was\\nparticularly \\nvulnerable. \\nAlmost \\nall \\nof\\nUnderwood\\'s production was devoted to Huy\\nFong. Huy Fong encouraged *1128 Underwood\\'s\\ndependence by demanding that Underwood obtain\\nmore acreage and by promising to buy all that\\nUnderwood produced. Even if Huy Fong\\'s\\ndeception may be described as a single incident,\\nHuy Fong had been planning the deception for\\nsome period of time. It did not occur in an\\naberrant moment. Finally, the harm was the result\\nof intentional deceit, not a mere accident. The\\ndegree of reprehensibility is more than sufficient\\nto support the punitive damages award.\\n1128\\nThe second guidepost, the disparity between the\\nactual harm and the punitive damages award, also\\nfavors affirming the award. The United States\\nSupreme Court has refused to draw a bright line. (\\nSimon v. San Paolo U.S. Holding Co., Inc . (2005)\\n35 Cal.4th 1159, 1181, 29 Cal.Rptr.3d 379, 113\\nP.3d 63.) But few awards exceeding a single-digit\\nratio between punitive and compensatory damages\\nwill satisfy due process. ( State Farm Mutual\\nAutomobile Insurance Co. v. Campbell , supra ,\\n538 U.S. at p. 425, 123 S.Ct. 1513.) Past decisions\\napproving ratios of three- or four-to-one are\\n\"instructive.\" ( Ibid. )\\nHere the ratio of punitive to compensatory\\ndamages is 0.75-to-one. Even if we were to\\nconsider the reprehensibility factor to be in the\\nmiddle range, the low punitive to compensatory\\ndamages ratio supports the award.\\nFinally, the third guidepost is the difference\\nbetween the punitive damages award and the civil\\npenalties authorized or imposed in comparable\\ncases. Our Supreme Court has noted that the third\\nguidepost is less useful in a case like this where\\nplaintiff prevailed only on a cause of action\\ninvolving common law tort duties that do not lend\\nthemselves to comparison with statutory penalties.\\n( Simon v. San Paolo U.S. Holding Co., Inc. supra\\n, 35 Cal.4th at pp. 1184-1185, 29 Cal.Rptr.3d 379,\\n113 P.3d 63.) Nevertheless, \"we do note that\\nCalifornia [statutes] typically impose[ ] treble\\ndamages penalties for fraudulent and bad faith\\nconduct.\" \\n( \\nBardis \\nv. \\nOates \\n(2004) \\n119\\nCal.App.4th 1, 24, 14 Cal.Rptr.3d 89.) There is\\nnothing about statutory penalties that indicates a\\n0.75-to-one ratio of punitive to compensatory\\ndamages is excessive. Far from it. Here the award\\nof punitive damages is low.\\nUnderwood\\'s Appeal\\nUnderwood appeals the judgment of nonsuit on its\\nclaims against Tran: intentional *771 interference\\nwith \\nprospective \\neconomic \\nadvantage \\nand\\ninterference with contract.\\n771\\nUnderwood asserts the appeal is protective. If we\\naffirm the judgment against Huy Fong, it will be\\nunnecessary for us to consider Underwood\\'s\\nclaims against Tran.*1129 Because we affirm the\\njudgment against Huy Fong, it is unnecessary for\\nus to consider Underwood\\'s appeal.\\n1129\\nDISPOSITION\\nThe judgment is affirmed. Costs are awarded to\\nUnderwood.\\nWe concur:\\nYEGAN, J.\\n9\\nHuy Fong Foods, Inc. v. Underwood Ranches, LP     66 Cal.App.5th 1112 (Cal. Ct. App. 2021)\\n\\nTANGEMAN, J.\\n10\\nHuy Fong Foods, Inc. v. Underwood Ranches, LP     66 Cal.App.5th 1112 (Cal. Ct. App. 2021)\\n'"
      ]
     },
     "execution_count": 65,
     "metadata": {},
     "output_type": "execute_result"
    }
   ],
   "source": [
    "try_extract_mine"
   ]
  },
  {
   "cell_type": "code",
   "execution_count": 89,
   "id": "41cabe8e",
   "metadata": {},
   "outputs": [],
   "source": [
    "reader = easyocr.Reader(['en'])\n",
    "pages = convert_from_path(PATH_INPUT / PDF_FILES[1], dpi=300)\n"
   ]
  },
  {
   "cell_type": "code",
   "execution_count": 79,
   "id": "7e07c2d5",
   "metadata": {},
   "outputs": [
    {
     "name": "stdout",
     "output_type": "stream",
     "text": [
      "Huy Fong Foods; Inc: V_ Underwood Ranches, LP 66 Cal.App:' Sth 1112 (Cal: Ct: App. 2021)/nor the first 10 years, the parties executed written reements   specifying the price per pound and )lume to be supplied. Thereafter; the parties dealt ith each other informally with oral agreements. riginally, Huy Fong needed more peppers than nderwood could   supply, SO it  contracted with her farmers as needed./nDue to Tran's   suggestion and encouragement; Underwood invested millions of dollars in acquiring additional acres in Kern County and, to a lesser extent, Ventura County By the end of the 2016 growing season, Underwood had  acquired over 1,800 acres in Kern County It took a year Or more to prepare the ground for growing peppers Many of the leases extended into the   2020's, 2030's, and beyond. By 2016, Huy Fong accounted for approximately 80 percent of Underwood's revenue./nnderwood's pepper sales to Huy Fong grew ong with the success   of Huy Fong's business. raig testified that; by 2005, Tran was \"pushing\" nderwood to add more   acreage. * 1117 In 2006, ran asked Underwood to significantly increase its pper acreage. Underwood was growing 95 rcent of Huy Fong's peppers But the peppers presented only 25 percent of Underwood's 1siness. Underwood also farmed diverse  crops Ich as lemons and vegetables Craig told Tran at he was reluctant to assume the risk of growing ore peppers, and   rejected Huy Fong's offer raig suggested that Huy Fong supplement nderwood's crop with peppers from other urces./nUnderwood made these investments because Tran and Donna   Lam; Huy Fong's chief   operations officer and Tran's sister-in-law; assured Underwood that Huy Fong   would continue to purchase the peppers grown by Underwood into the future. Craig testified Tran and Lam made sure he  knew Huy Fong was   going to take all the product Underwood would produce. They repeatedly told Craig; \"You grow it, Ill sell it. \"/nHuy Fong Video Records 2016 Harvest Craig  along with Underwood's  chief operations officer; Jim Roberts,   developed a mechanical harvester for the peppers. The 2016 harvest was 1118the *1118 first time the entire harvest was performed by the harvester: Mechanical harvesting 763   saved substantial  money.*763 In October  2016, Tran   requested Underwood's  permission to take video footage from an aerial drone of Underwood's   harvesting   and sorting   operations. Roberts granted permission for Huy Fong's personal use only:  Huy Fong had never before requested to record the harvest;/nstead of   seeking other sources; Huy Fong oposed that it would assume some of the risk uy  Fong   would pay Underwood by the acre own instead of pounds produced. Thus, the risk a disappointing yield would be on Huy Fong: nderwood agreed to the arrangement/n2007 Huy Fong advised Underwood to crease  its acreage by 50 percent: To do this, nderwood had to   expand its   operations   from entura   County to Kern County:  Craig testified at the   expansion into Kern County was the ggest thing he had ever done, but he needed to ) it to meet Huy Fong's increasing needs./nChilico, LLC In 2014 or 2015, Tran formed a new company that he  later called  Chilico, LLC. Chilico's   purpose was to obtain peppers for Huy Fong: In May 2015, Tran offered Roberts a job. Roberts  declined the job offer and attributed the offer to a mistake./nt the same time, Huy Fong was building a o,000-square-foot   factory in Irwindale. Tran ok Craig o a tour of the site. Tran told Craig at Underwood \"needed to fill it up. Tran told raig that he  should be   farming at least 2,000 res./netext\n"
     ]
    }
   ],
   "source": [
    "img = np.array(pages[1])\n",
    "x0 = 305\n",
    "y1 = 3150\n",
    "img_crop = img[:y1, x0:]  \n",
    "result = reader.readtext(np.array(img_crop), detail=0, paragraph=True)\n",
    "print(\"/n\".join(result))\n",
    "with open(PATH_OUTPUT / f\"{PDF_FILES[0].split(\".\")[0]}.txt\", \"w\") as f:\n",
    "    f.write(\"/n \".join(result))"
   ]
  },
  {
   "cell_type": "code",
   "execution_count": 90,
   "id": "534bf966",
   "metadata": {},
   "outputs": [],
   "source": [
    "img = np.array(pages[2])\n",
    "\n",
    "result = reader.readtext(img, detail=0, paragraph=True)\n",
    "with open(PATH_OUTPUT / f\"{PDF_FILES[1].split(\".\")[0]}.txt\", \"w\") as f:\n",
    "    f.write(\"\\n\".join(result))"
   ]
  },
  {
   "cell_type": "markdown",
   "id": "d1523f33",
   "metadata": {},
   "source": [
    "#### Another level Auto detect paragraphsm"
   ]
  },
  {
   "cell_type": "code",
   "execution_count": 58,
   "id": "a032b566",
   "metadata": {},
   "outputs": [
    {
     "name": "stdout",
     "output_type": "stream",
     "text": [
      "---- Detected Paragraph Block ----\n",
      "Electronically FILED by Superior Court of California, County of Los Angeles 12/12/2023 5;19 PM Miles M, Cooley, (SBN: 206783) David W. Slayton, mcooley@@ftllpcom Executive Officer/Clerk of Court Jacob T. Bolan; (SBN: 329117) By S. Ruiz, Deputy Clerk jbolan@ftllpcom FREEDMAN + TAITELMAN; LLP 1801 Century Park West, Fifth Floor Los Angeles, California 90067 Telephone: (310) 201-0005 Facsimile: (310) 201-0045 Attorneys for Plaintiff Adrian Velasquez Eskupe SUPERIOR COURT OF THE STATE OF CALIFORNIA FOR THE COUNTY OF LOS ANGELES ADRIAN VELASQUEZ, an individual, Case No:: 238tcv30337 COMPLAINT FOR: Plaintiff, ) FRAUD AND DECEIT (INTENTIONAL VS. ) MISREPRESENTA TION) ) MARCO ANTHONY ARCHER, an ) FRAUD AND DECEIT individual; PHORA LLC, a California limited (CONCEALMENT) liability company; PHORA ENTERTAINMENT INC , a terminated BREACH OF COVENANT OF GOOD FAITH AND FAIR DEALING California corporation; WARNER RECORDS NNC. flkla WARNER BROS. BREACH OF IMPLIED-IN-FACT RECORDS INC , a Delaware corporation; CONTRACT and DOES 1 through 20, inclusive, ) INTENTIONAL INFLICTION OF EMOTIONAL DISTRESS Defendants. NEGLIGENCE CONVERSION L (8) COJSSTLCRICEMRAUD (RECESSION) (10) MONEY HAD AND RECEIVED (11) ACCOUNTING { (12) DECLARATORY RELIEF JURY TRIAL DEMANDED COMPLAINT Esq: Esq: p.ka.\n"
     ]
    }
   ],
   "source": [
    "import cv2\n",
    "import numpy as np\n",
    "from pdf2image import convert_from_path\n",
    "import easyocr\n",
    "\n",
    "reader = easyocr.Reader(['en'])\n",
    "\n",
    "# Step 1: Load first page of PDF as image\n",
    "pages = convert_from_path(PATH / PDF_FILES[1], dpi=300)\n",
    "img = np.array(pages[0])\n",
    "gray = cv2.cvtColor(img, cv2.COLOR_RGB2GRAY)\n",
    "\n",
    "# Step 2: Threshold to binary\n",
    "_, thresh = cv2.threshold(gray, 180, 255, cv2.THRESH_BINARY_INV)\n",
    "\n",
    "# Step 3: Morphological operations to merge lines into blocks\n",
    "kernel = cv2.getStructuringElement(cv2.MORPH_RECT, (5, 5))\n",
    "morph = cv2.dilate(thresh, kernel, iterations=2)\n",
    "\n",
    "# Step 4: Find contours\n",
    "contours, _ = cv2.findContours(morph, cv2.RETR_EXTERNAL, cv2.CHAIN_APPROX_SIMPLE)\n",
    "\n",
    "# Step 5: Find the largest rectangular contour in the central area\n",
    "h, w = gray.shape\n",
    "candidates = []\n",
    "for cnt in contours:\n",
    "    x, y, cw, ch = cv2.boundingRect(cnt)\n",
    "    #if cw * ch < 1000:  # skip small noise\n",
    "    #    continue\n",
    "    #if y < h * 0.1 or y + ch > h * 0.9:  # avoid headers/footers\n",
    "    #    continue\n",
    "    if x < w * 0.05 or x + cw > w * 0.95:  # avoid sidebars\n",
    "        continue\n",
    "    candidates.append((cw * ch, x, y, x + cw, y + ch))\n",
    "\n",
    "if not candidates:\n",
    "    print(\"No main block detected.\")\n",
    "else:\n",
    "    # Choose largest\n",
    "    _, x1, y1, x2, y2 = max(candidates)\n",
    "    roi = img[y1:y2, x1:x2]\n",
    "\n",
    "    # Step 6: OCR only that region\n",
    "    results = reader.readtext(roi)\n",
    "    text = \" \".join([r[1] for r in results])\n",
    "    print(\"---- Detected Paragraph Block ----\")\n",
    "    print(text)\n"
   ]
  },
  {
   "cell_type": "code",
   "execution_count": null,
   "id": "232e83fc",
   "metadata": {},
   "outputs": [],
   "source": []
  }
 ],
 "metadata": {
  "kernelspec": {
   "display_name": "Poetry Dev",
   "language": "python",
   "name": "poetry-dev"
  },
  "language_info": {
   "codemirror_mode": {
    "name": "ipython",
    "version": 3
   },
   "file_extension": ".py",
   "mimetype": "text/x-python",
   "name": "python",
   "nbconvert_exporter": "python",
   "pygments_lexer": "ipython3",
   "version": "3.12.2"
  }
 },
 "nbformat": 4,
 "nbformat_minor": 5
}
